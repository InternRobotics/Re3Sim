{
 "cells": [
  {
   "cell_type": "code",
   "execution_count": 2,
   "metadata": {},
   "outputs": [
    {
     "name": "stdout",
     "output_type": "stream",
     "text": [
      "4.11.0\n"
     ]
    }
   ],
   "source": [
    "import cv2\n",
    "print(cv2.__version__)"
   ]
  },
  {
   "cell_type": "code",
   "execution_count": 3,
   "metadata": {},
   "outputs": [
    {
     "name": "stdout",
     "output_type": "stream",
     "text": [
      "Jupyter environment detected. Enabling Open3D WebVisualizer.\n",
      "[Open3D INFO] WebRTC GUI backend enabled.\n",
      "[Open3D INFO] WebRTCWindowSystem: HTTP handshake server disabled.\n"
     ]
    }
   ],
   "source": [
    "import numpy as np\n",
    "import os\n",
    "import sys\n",
    "import open3d as o3d\n",
    "import cv2\n",
    "from tqdm import trange\n",
    "import roboticstoolbox as rtb\n",
    "\n",
    "parent_dir = os.path.dirname(os.getcwd())\n",
    "parent_dir = os.path.dirname(parent_dir)\n",
    "sys.path.append(parent_dir)\n",
    "\n",
    "from calibration.hand_in_eye import HandinEyeCalibrator\n",
    "from calibration.utils import read_data"
   ]
  },
  {
   "cell_type": "markdown",
   "metadata": {},
   "source": [
    "# Calibration"
   ]
  },
  {
   "cell_type": "code",
   "execution_count": null,
   "metadata": {},
   "outputs": [
    {
     "name": "stdout",
     "output_type": "stream",
     "text": [
      "40 poses found\n",
      "Camera matrix: [[604.90216064   0.         330.55206299]\n",
      " [  0.         605.10333252 241.44529724]\n",
      " [  0.           0.           1.        ]]\n",
      "Average Camera to gripper rotation matrix:\n",
      "[[-0.24309591 -0.71532616 -0.65514339]\n",
      " [ 0.7107732   0.32824672 -0.62213789]\n",
      " [ 0.66008018 -0.61689754  0.42863923]]\n",
      "Average Camera to gripper translation vector:\n",
      "[[0.43930733]\n",
      " [0.3483721 ]\n",
      " [0.4645908 ]]\n"
     ]
    }
   ],
   "source": [
    "def tcp_to_hand(pose):\n",
    "    panda = rtb.models.Panda()\n",
    "    joints = panda.ik_LM(pose)[0]\n",
    "    hand_pose = panda.fkine(joints, end=\"panda_hand\").A\n",
    "    return hand_pose\n",
    "\n",
    "def joint_to_hand(joints):\n",
    "    panda = rtb.models.Panda()\n",
    "    hand_pose = panda.fkine(joints, end=\"panda_hand\").A\n",
    "    return hand_pose\n",
    "# Read data\n",
    "base_dir = 'data/hand_in_eye8'\n",
    "rgb_list, depth_list, pose_list, rgb_intrinsics, rgb_coeffs, depth_intrinsics, depth_coeffs, depth_scale, joints_list = read_data(base_dir)\n",
    "# pose_list = [joint_to_hand(joints) for joints in joints_list]\n",
    "# pose_list = [tcp_to_hand(pose) for pose in pose_list]\n",
    "print(f\"{len(rgb_list)} poses found\")\n",
    "print(f'Camera matrix: {rgb_intrinsics}')\n",
    "\n",
    "# Calibrate\n",
    "charuco_dict = cv2.aruco.getPredefinedDictionary(cv2.aruco.DICT_6X6_250)\n",
    "board = cv2.aruco.CharucoBoard((5, 5), 0.04, 0.03, charuco_dict)\n",
    "\n",
    "calibrator = HandinEyeCalibrator(rgb_intrinsics, rgb_coeffs, charuco_dict, board)\n",
    "R_cam2gripper_avg, t_cam2gripper_avg = calibrator.perform(rgb_list, pose_list)\n",
    "\n",
    "print(\"Average Camera to gripper rotation matrix:\")\n",
    "print(R_cam2gripper_avg)\n",
    "print(\"Average Camera to gripper translation vector:\")\n",
    "print(t_cam2gripper_avg)"
   ]
  },
  {
   "cell_type": "markdown",
   "metadata": {},
   "source": [
    "# Visualize results"
   ]
  },
  {
   "cell_type": "code",
   "execution_count": 5,
   "metadata": {},
   "outputs": [
    {
     "name": "stdout",
     "output_type": "stream",
     "text": [
      "\u001b[1;33m[Open3D WARNING] GLFW Error: Failed to detect any supported platform\u001b[0;m\n",
      "\u001b[1;33m[Open3D WARNING] GLFW initialized for headless rendering.\u001b[0;m\n",
      "\u001b[1;33m[Open3D WARNING] GLFW Error: OSMesa: Library not found\u001b[0;m\n",
      "\u001b[1;33m[Open3D WARNING] Failed to create window\u001b[0;m\n",
      "\u001b[1;33m[Open3D WARNING] [DrawGeometries] Failed creating OpenGL window.\u001b[0;m\n"
     ]
    }
   ],
   "source": [
    "# visualize coordinates\n",
    "R_avg = R_cam2gripper_avg\n",
    "t_avg = t_cam2gripper_avg\n",
    "\n",
    "R_original = np.eye(3)\n",
    "t_original = np.zeros((3, 1))\n",
    "\n",
    "R_relative = R_avg.copy()\n",
    "t_relative = t_avg.copy()\n",
    "\n",
    "T_original = np.eye(4)\n",
    "T_original[:3, :3] = R_original\n",
    "T_original[:3, 3] = t_original.flatten()\n",
    "\n",
    "T_relative = np.eye(4)\n",
    "T_relative[:3, :3] = R_relative\n",
    "T_relative[:3, 3] = t_relative.flatten()\n",
    "\n",
    "T_transformed = np.dot(T_original, T_relative)\n",
    "\n",
    "mesh_frame_original = o3d.geometry.TriangleMesh.create_coordinate_frame(size=0.6)\n",
    "mesh_frame_transformed = o3d.geometry.TriangleMesh.create_coordinate_frame(size=0.6)\n",
    "\n",
    "mesh_frame_original.transform(T_original)\n",
    "mesh_frame_transformed.transform(T_transformed)\n",
    "\n",
    "o3d.visualization.draw_geometries([mesh_frame_original, mesh_frame_transformed])"
   ]
  },
  {
   "cell_type": "code",
   "execution_count": 6,
   "metadata": {},
   "outputs": [
    {
     "name": "stdout",
     "output_type": "stream",
     "text": [
      "\u001b[1;33m[Open3D WARNING] GLFW initialized for headless rendering.\u001b[0;m\n",
      "\u001b[1;33m[Open3D WARNING] GLFW Error: OSMesa: Library not found\u001b[0;m\n",
      "\u001b[1;33m[Open3D WARNING] Failed to create window\u001b[0;m\n",
      "\u001b[1;33m[Open3D WARNING] [DrawGeometries] Failed creating OpenGL window.\u001b[0;m\n"
     ]
    }
   ],
   "source": [
    "# accumulate pointclouds\n",
    "camera_intrinsic = o3d.camera.PinholeCameraIntrinsic()\n",
    "camera_intrinsic.set_intrinsics(rgb_list[0].shape[1], rgb_list[0].shape[0],\n",
    "                                rgb_intrinsics[0, 0], rgb_intrinsics[1, 1],\n",
    "                                rgb_intrinsics[0, 2], rgb_intrinsics[1, 2])\n",
    "\n",
    "# Transformation matrix from camera to gripper\n",
    "T_cam_to_gripper = np.eye(4)\n",
    "T_cam_to_gripper[0:3, 0:3] = R_cam2gripper_avg\n",
    "T_cam_to_gripper[0:3, 3] = t_cam2gripper_avg.flatten()\n",
    "\n",
    "combined_pcd = o3d.geometry.PointCloud()\n",
    "\n",
    "# Iterate over all images and add them to the point cloud\n",
    "for i in range(0,len(rgb_list), 4):\n",
    "    rgb_img = rgb_list[i]\n",
    "    depth_img = depth_list[i]\n",
    "    pose_to_base = pose_list[i]\n",
    "\n",
    "    rgbd_image = o3d.geometry.RGBDImage.create_from_color_and_depth(\n",
    "        o3d.geometry.Image(rgb_img),\n",
    "        o3d.geometry.Image(depth_img),\n",
    "        depth_scale=1 / depth_scale,\n",
    "    )\n",
    "\n",
    "    pcd = o3d.geometry.PointCloud.create_from_rgbd_image(\n",
    "        rgbd_image, camera_intrinsic\n",
    "    )\n",
    "\n",
    "    cam_to_world = pose_to_base @ T_cam_to_gripper\n",
    "    pcd.transform(cam_to_world)\n",
    "\n",
    "    combined_pcd += pcd\n",
    "\n",
    "# Visualize the combined point cloud\n",
    "o3d.visualization.draw_geometries([combined_pcd])"
   ]
  },
  {
   "cell_type": "markdown",
   "metadata": {},
   "source": [
    "# TSDF reconstruction"
   ]
  },
  {
   "cell_type": "code",
   "execution_count": 7,
   "metadata": {},
   "outputs": [
    {
     "name": "stderr",
     "output_type": "stream",
     "text": [
      "100%|██████████| 40/40 [00:00<00:00, 82.49it/s]\n"
     ]
    }
   ],
   "source": [
    "DEPTH_CUTOFF            = 1\n",
    "VOXEL_SIZE              =0.005\n",
    "\n",
    "cam_to_gripper_pose = np.eye(4)\n",
    "cam_to_gripper_pose[:3, :3] = R_cam2gripper_avg\n",
    "cam_to_gripper_pose[:3, 3] = t_cam2gripper_avg.squeeze()\n",
    "\n",
    "volume = o3d.pipelines.integration.ScalableTSDFVolume(\n",
    "    voxel_length=VOXEL_SIZE,\n",
    "    sdf_trunc=3 * VOXEL_SIZE,\n",
    "    color_type=o3d.pipelines.integration.TSDFVolumeColorType.RGB8\n",
    ")\n",
    "\n",
    "for idx in trange(len(rgb_list)):\n",
    "    pose = pose_list[idx] @ cam_to_gripper_pose\n",
    "    rgb = rgb_list[idx]\n",
    "    rgb = np.ascontiguousarray(rgb)\n",
    "    depth = depth_list[idx] * depth_scale\n",
    "    depth[depth > DEPTH_CUTOFF] = 0.0 # remove invalid depth\n",
    "    depth = np.ascontiguousarray(depth.astype(np.float32))\n",
    "\n",
    "    rgb = o3d.geometry.Image(rgb)\n",
    "    depth = o3d.geometry.Image(depth)\n",
    "\n",
    "    rgbd = o3d.geometry.RGBDImage.create_from_color_and_depth(\n",
    "        rgb, depth, depth_scale=1.0, depth_trunc=4.0, convert_rgb_to_intensity=False)\n",
    "    intrinsic = camera_intrinsic\n",
    "    extrinsic = np.linalg.inv(pose)\n",
    "    # extrinsic = pose\n",
    "    volume.integrate(rgbd, intrinsic, extrinsic)"
   ]
  },
  {
   "cell_type": "code",
   "execution_count": 25,
   "metadata": {},
   "outputs": [
    {
     "name": "stdout",
     "output_type": "stream",
     "text": [
      "\u001b[1;33m[Open3D WARNING] GLFW Error: X11: The DISPLAY environment variable is missing\u001b[0;m\n",
      "\u001b[1;33m[Open3D WARNING] Failed to initialize GLFW\u001b[0;m\n",
      "\u001b[1;33m[Open3D WARNING] [DrawGeometries] Failed creating OpenGL window.\u001b[0;m\n"
     ]
    },
    {
     "data": {
      "text/plain": [
       "True"
      ]
     },
     "execution_count": 25,
     "metadata": {},
     "output_type": "execute_result"
    }
   ],
   "source": [
    "# Get mesh and visualize\n",
    "mesh = volume.extract_triangle_mesh()\n",
    "sampled_pcd = mesh.sample_points_uniformly(number_of_points=100000)\n",
    "o3d.visualization.draw_geometries([sampled_pcd])\n",
    "o3d.io.write_triangle_mesh(\"pointcloud.ply\", mesh)"
   ]
  },
  {
   "cell_type": "code",
   "execution_count": 26,
   "metadata": {},
   "outputs": [
    {
     "name": "stdout",
     "output_type": "stream",
     "text": [
      "[(4, 4), (4, 4), (4, 4), (4, 4), (4, 4), (4, 4), (4, 4), (4, 4), (4, 4), (4, 4), (4, 4), (4, 4), (4, 4), (4, 4), (4, 4), (4, 4), (4, 4), (4, 4), (4, 4), (4, 4), (4, 4), (4, 4), (4, 4), (4, 4), (4, 4), (4, 4), (4, 4), (4, 4), (4, 4), (4, 4), (4, 4), (4, 4), (4, 4), (4, 4), (4, 4), (4, 4), (4, 4), (4, 4), (4, 4), (4, 4)]\n"
     ]
    }
   ],
   "source": [
    "import roboticstoolbox as rtb\n"
   ]
  },
  {
   "cell_type": "code",
   "execution_count": 27,
   "metadata": {},
   "outputs": [
    {
     "data": {
      "text/plain": [
       "array([[ 0.01495648, -0.99906156, -0.04065007,  0.06511291],\n",
       "       [ 0.99819093,  0.01728653, -0.05758606, -0.0088448 ],\n",
       "       [ 0.05823475, -0.03971527,  0.99751267,  0.01098037],\n",
       "       [ 0.        ,  0.        ,  0.        ,  1.        ]])"
      ]
     },
     "execution_count": 27,
     "metadata": {},
     "output_type": "execute_result"
    }
   ],
   "source": []
  }
 ],
 "metadata": {
  "kernelspec": {
   "display_name": "py10",
   "language": "python",
   "name": "python3"
  },
  "language_info": {
   "codemirror_mode": {
    "name": "ipython",
    "version": 3
   },
   "file_extension": ".py",
   "mimetype": "text/x-python",
   "name": "python",
   "nbconvert_exporter": "python",
   "pygments_lexer": "ipython3",
   "version": "3.10.16"
  }
 },
 "nbformat": 4,
 "nbformat_minor": 2
}
