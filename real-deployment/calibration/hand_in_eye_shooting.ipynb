{
 "cells": [
  {
   "cell_type": "markdown",
   "metadata": {},
   "source": [
    "# Connect"
   ]
  },
  {
   "cell_type": "code",
   "execution_count": 10,
   "metadata": {},
   "outputs": [],
   "source": [
    "# Panda hostname/IP and Desk login information of your robot\n",
    "hostname = '172.16.0.2'\n",
    "username = 'TQSH'\n",
    "password = 'tqshanghai'\n",
    "base_dir = '../../data/hand_in_eye8'\n",
    "# panda-py is chatty, activate information log level\n",
    "import logging\n",
    "import panda_py\n",
    "\n",
    "logging.basicConfig(level=logging.INFO)"
   ]
  },
  {
   "cell_type": "code",
   "execution_count": 11,
   "metadata": {},
   "outputs": [
    {
     "name": "stderr",
     "output_type": "stream",
     "text": [
      "INFO:panda:Connected to robot (172.16.0.2).\n",
      "INFO:panda:Panda class destructor invoked (172.16.0.2).\n",
      "INFO:panda:Stopping active controller (Trajectory).\n"
     ]
    }
   ],
   "source": [
    "from panda_py import libfranka\n",
    "\n",
    "panda = panda_py.Panda(hostname)\n",
    "panda.enable_logging(int(1e2))\n",
    "gripper = libfranka.Gripper(hostname)"
   ]
  },
  {
   "cell_type": "markdown",
   "metadata": {},
   "source": [
    "# Hand in eye calib"
   ]
  },
  {
   "cell_type": "code",
   "execution_count": 12,
   "metadata": {},
   "outputs": [],
   "source": [
    "from panda_py import constants\n",
    "from scipy.spatial.transform import Rotation as R\n",
    "import numpy as np\n",
    "import matplotlib.pyplot as plt\n",
    "import os\n",
    "import time"
   ]
  },
  {
   "cell_type": "code",
   "execution_count": 13,
   "metadata": {},
   "outputs": [],
   "source": [
    "def generate_and_move_to_pose(init_pose, roll, pitch, yaw, z_add, x_add, y_add, max_roll_deviation, max_pitch_deviation, max_yaw_deviation):\n",
    "    \"\"\"Generate a new pose with turbulence and move the robot arm to it.\"\"\"\n",
    "    roll_turbulent = roll + np.random.uniform(-max_roll_deviation, max_roll_deviation)\n",
    "    pitch_turbulent = pitch + np.random.uniform(-max_pitch_deviation, max_pitch_deviation)\n",
    "    yaw_turbulent = yaw + np.random.uniform(-max_yaw_deviation, max_yaw_deviation)\n",
    "\n",
    "    r = R.from_euler('xyz', [roll_turbulent, pitch_turbulent, yaw_turbulent], degrees=False)\n",
    "    rotation_matrix = r.as_matrix()\n",
    "\n",
    "    absolute_rotation_matrix = np.dot(init_pose[:3, :3], rotation_matrix)\n",
    "\n",
    "    pose = init_pose.copy()\n",
    "    pose[:3, :3] = absolute_rotation_matrix\n",
    "    pose[2, 3] += z_add\n",
    "    pose[0, 3] += x_add\n",
    "    pose[1, 3] += y_add\n",
    "\n",
    "    panda.move_to_pose(pose)\n",
    "    \n",
    "    return pose\n",
    "\n",
    "def save_pose(pose, base_dir, frame_num):\n",
    "    \"\"\"Save the robot arm's pose to a file.\"\"\"\n",
    "    pose_filename = f'{base_dir}/poses/pose_{frame_num}.npy'\n",
    "    np.save(pose_filename, pose)\n",
    "    print(f\"Saved pose to {pose_filename}\")\n",
    "\n",
    "def save_joints(joints, base_dir, frame_num):\n",
    "    \"\"\"Save the robot arm's joints to a file.\"\"\"\n",
    "    joints_filename = f'{base_dir}/joints/joints_{frame_num}.npy'\n",
    "    np.save(joints_filename, joints)\n",
    "    print(f\"Saved joints to {joints_filename}\")\n"
   ]
  },
  {
   "cell_type": "code",
   "execution_count": 14,
   "metadata": {},
   "outputs": [],
   "source": [
    "import sys\n",
    "parent_dir = os.path.dirname(os.getcwd())\n",
    "parent_dir = os.path.dirname(parent_dir)\n",
    "sys.path.append(parent_dir)\n",
    "from realsense.realsense import Camera\n",
    "from realsense.realsense import get_devices\n",
    "\n",
    "\n",
    "def capture_images(camera, delay_before_shooting, start_frame, picture_nums, base_dir, init_pose, roll, pitch, yaw, z_add, x_add, y_add,\n",
    "                   max_roll_deviation, max_pitch_deviation, max_yaw_deviation):\n",
    "    \n",
    "    camera.start()\n",
    "    \n",
    "    rgb_intrinsics, rgb_coeffs, depth_intrinsics, depth_coeffs = camera.get_intrinsics_raw()\n",
    "    depth_scale = camera.get_depth_scale()\n",
    "\n",
    "    print(f\"RGB Intrinsics: {rgb_intrinsics}\")\n",
    "    print(f\"RGB Distortion Coefficients: {rgb_coeffs}\")\n",
    "    rgb_intrinsics_path = f'{base_dir}/rgb_intrinsics.npz'\n",
    "    np.savez(rgb_intrinsics_path, fx=rgb_intrinsics.fx, fy=rgb_intrinsics.fy, ppx=rgb_intrinsics.ppx, ppy=rgb_intrinsics.ppy, coeffs=rgb_intrinsics.coeffs)\n",
    "\n",
    "    print(f\"Depth Scale: {depth_scale}\")\n",
    "    print(f\"Depth Intrinsics: {depth_intrinsics}\")\n",
    "    print(f\"Depth Distortion Coefficients: {depth_coeffs}\")\n",
    "    depth_intrinsics_path = f'{base_dir}/depth_intrinsics.npz'\n",
    "    np.savez(depth_intrinsics_path, fx=depth_intrinsics.fx, fy=depth_intrinsics.fy, ppx=depth_intrinsics.ppx, ppy=depth_intrinsics.ppy, coeffs=depth_intrinsics.coeffs, depth_scale=depth_scale)\n",
    "\n",
    "    # drop the first few frames to allow the camera to warm up\n",
    "    _, _ = camera.shoot()  \n",
    "    time.sleep(delay_before_shooting)\n",
    "\n",
    "    for frame_num in range(start_frame, start_frame + picture_nums):  # Capture images at 10 different poses\n",
    "        pose = generate_and_move_to_pose(init_pose, roll, pitch, yaw, z_add, x_add, y_add,\n",
    "                                         max_roll_deviation, max_pitch_deviation, max_yaw_deviation)\n",
    "        rgb_image, depth_image = camera.shoot()\n",
    "        rgb_filename = f'{base_dir}/rgb/{frame_num}.png'\n",
    "        depth_filename = f'{base_dir}/depth/{frame_num}.npy'\n",
    "        plt.imsave(rgb_filename, rgb_image)\n",
    "        np.save(depth_filename, depth_image)\n",
    "        print(f\"Saved {rgb_filename}\")\n",
    "        print(f\"Saved {depth_filename}\")\n",
    "\n",
    "        save_pose(pose, base_dir, frame_num)\n",
    "        last_qpos = panda.get_log()[\"q\"][-1]\n",
    "        save_joints(last_qpos, base_dir, frame_num)\n",
    "\n",
    "    panda.move_to_start()\n",
    "        \n",
    "    camera.stop()\n"
   ]
  },
  {
   "cell_type": "code",
   "execution_count": 15,
   "metadata": {},
   "outputs": [
    {
     "name": "stdout",
     "output_type": "stream",
     "text": [
      "Selected device serial numbers: 115222071207\n",
      "RGB Intrinsics: [ 640x480  p[330.552 241.445]  f[604.902 605.103]  Inverse Brown Conrady [0 0 0 0 0] ]\n",
      "RGB Distortion Coefficients: [0.0, 0.0, 0.0, 0.0, 0.0]\n",
      "Depth Scale: 0.0010000000474974513\n",
      "Depth Intrinsics: [ 640x480  p[322.025 240.057]  f[379.037 379.037]  Brown Conrady [0 0 0 0 0] ]\n",
      "Depth Distortion Coefficients: [0.0, 0.0, 0.0, 0.0, 0.0]\n"
     ]
    },
    {
     "name": "stderr",
     "output_type": "stream",
     "text": [
      "INFO:panda:Initializing motion generation (moveToPose).\n",
      "INFO:motion:Computed Cartesian trajectory: 1 waypoint, duration 0.60 seconds.\n",
      "INFO:panda:Starting new controller (Trajectory).\n",
      "ERROR:panda:Control loop interruped: libfranka: Move command rejected: command not possible in the current mode (\"User stopped\")!\n",
      "INFO:panda:Stopping active controller (Trajectory).\n",
      "INFO:panda:Initializing motion generation (moveToPose).\n",
      "INFO:motion:Computed Cartesian trajectory: 1 waypoint, duration 0.50 seconds.\n",
      "INFO:panda:Starting new controller (Trajectory).\n",
      "ERROR:panda:Control loop interruped: libfranka: Move command rejected: command not possible in the current mode (\"User stopped\")!\n",
      "INFO:panda:Stopping active controller (Trajectory).\n",
      "INFO:panda:Initializing motion generation (moveToPose).\n",
      "INFO:motion:Computed Cartesian trajectory: 1 waypoint, duration 0.66 seconds.\n",
      "INFO:panda:Starting new controller (Trajectory).\n",
      "ERROR:panda:Control loop interruped: libfranka: Move command rejected: command not possible in the current mode (\"User stopped\")!\n",
      "INFO:panda:Stopping active controller (Trajectory).\n",
      "INFO:panda:Initializing motion generation (moveToPose).\n",
      "INFO:motion:Computed Cartesian trajectory: 1 waypoint, duration 0.55 seconds.\n",
      "INFO:panda:Starting new controller (Trajectory).\n",
      "ERROR:panda:Control loop interruped: libfranka: Move command rejected: command not possible in the current mode (\"User stopped\")!\n"
     ]
    },
    {
     "name": "stdout",
     "output_type": "stream",
     "text": [
      "Saved ../../hand_in_eye8/rgb/0.png\n",
      "Saved ../../hand_in_eye8/depth/0.npy\n",
      "Saved pose to ../../hand_in_eye8/poses/pose_0.npy\n",
      "Saved joints to ../../hand_in_eye8/joints/joints_0.npy\n",
      "Saved ../../hand_in_eye8/rgb/1.png\n",
      "Saved ../../hand_in_eye8/depth/1.npy\n",
      "Saved pose to ../../hand_in_eye8/poses/pose_1.npy\n",
      "Saved joints to ../../hand_in_eye8/joints/joints_1.npy\n",
      "Saved ../../hand_in_eye8/rgb/2.png\n",
      "Saved ../../hand_in_eye8/depth/2.npy\n",
      "Saved pose to ../../hand_in_eye8/poses/pose_2.npy\n",
      "Saved joints to ../../hand_in_eye8/joints/joints_2.npy\n"
     ]
    },
    {
     "name": "stderr",
     "output_type": "stream",
     "text": [
      "INFO:panda:Stopping active controller (Trajectory).\n",
      "INFO:panda:Initializing motion generation (moveToPose).\n",
      "INFO:motion:Computed Cartesian trajectory: 1 waypoint, duration 0.59 seconds.\n",
      "INFO:panda:Starting new controller (Trajectory).\n",
      "ERROR:panda:Control loop interruped: libfranka: Move command rejected: command not possible in the current mode (\"User stopped\")!\n",
      "INFO:panda:Stopping active controller (Trajectory).\n",
      "INFO:panda:Initializing motion generation (moveToPose).\n",
      "INFO:motion:Computed Cartesian trajectory: 1 waypoint, duration 0.51 seconds.\n",
      "INFO:panda:Starting new controller (Trajectory).\n",
      "ERROR:panda:Control loop interruped: libfranka: Move command rejected: command not possible in the current mode (\"User stopped\")!\n",
      "INFO:panda:Stopping active controller (Trajectory).\n",
      "INFO:panda:Initializing motion generation (moveToPose).\n",
      "INFO:motion:Computed Cartesian trajectory: 1 waypoint, duration 0.50 seconds.\n",
      "INFO:panda:Starting new controller (Trajectory).\n",
      "ERROR:panda:Control loop interruped: libfranka: Move command rejected: command not possible in the current mode (\"User stopped\")!\n"
     ]
    },
    {
     "name": "stdout",
     "output_type": "stream",
     "text": [
      "Saved ../../hand_in_eye8/rgb/3.png\n",
      "Saved ../../hand_in_eye8/depth/3.npy\n",
      "Saved pose to ../../hand_in_eye8/poses/pose_3.npy\n",
      "Saved joints to ../../hand_in_eye8/joints/joints_3.npy\n",
      "Saved ../../hand_in_eye8/rgb/4.png\n",
      "Saved ../../hand_in_eye8/depth/4.npy\n",
      "Saved pose to ../../hand_in_eye8/poses/pose_4.npy\n",
      "Saved joints to ../../hand_in_eye8/joints/joints_4.npy\n",
      "Saved ../../hand_in_eye8/rgb/5.png\n",
      "Saved ../../hand_in_eye8/depth/5.npy\n",
      "Saved pose to ../../hand_in_eye8/poses/pose_5.npy\n",
      "Saved joints to ../../hand_in_eye8/joints/joints_5.npy\n"
     ]
    },
    {
     "name": "stderr",
     "output_type": "stream",
     "text": [
      "INFO:panda:Stopping active controller (Trajectory).\n",
      "INFO:panda:Initializing motion generation (moveToPose).\n",
      "INFO:motion:Computed Cartesian trajectory: 1 waypoint, duration 0.50 seconds.\n",
      "INFO:panda:Starting new controller (Trajectory).\n",
      "ERROR:panda:Control loop interruped: libfranka: Move command rejected: command not possible in the current mode (\"User stopped\")!\n",
      "INFO:panda:Stopping active controller (Trajectory).\n",
      "INFO:panda:Initializing motion generation (moveToPose).\n",
      "INFO:motion:Computed Cartesian trajectory: 1 waypoint, duration 0.50 seconds.\n",
      "INFO:panda:Starting new controller (Trajectory).\n",
      "ERROR:panda:Control loop interruped: libfranka: Move command rejected: command not possible in the current mode (\"User stopped\")!\n",
      "INFO:panda:Stopping active controller (Trajectory).\n",
      "INFO:panda:Initializing motion generation (moveToPose).\n",
      "INFO:motion:Computed Cartesian trajectory: 1 waypoint, duration 0.62 seconds.\n",
      "INFO:panda:Starting new controller (Trajectory).\n",
      "ERROR:panda:Control loop interruped: libfranka: Move command rejected: command not possible in the current mode (\"User stopped\")!\n"
     ]
    },
    {
     "name": "stdout",
     "output_type": "stream",
     "text": [
      "Saved ../../hand_in_eye8/rgb/6.png\n",
      "Saved ../../hand_in_eye8/depth/6.npy\n",
      "Saved pose to ../../hand_in_eye8/poses/pose_6.npy\n",
      "Saved joints to ../../hand_in_eye8/joints/joints_6.npy\n",
      "Saved ../../hand_in_eye8/rgb/7.png\n",
      "Saved ../../hand_in_eye8/depth/7.npy\n",
      "Saved pose to ../../hand_in_eye8/poses/pose_7.npy\n",
      "Saved joints to ../../hand_in_eye8/joints/joints_7.npy\n",
      "Saved ../../hand_in_eye8/rgb/8.png\n",
      "Saved ../../hand_in_eye8/depth/8.npy\n",
      "Saved pose to ../../hand_in_eye8/poses/pose_8.npy\n",
      "Saved joints to ../../hand_in_eye8/joints/joints_8.npy\n"
     ]
    },
    {
     "name": "stderr",
     "output_type": "stream",
     "text": [
      "INFO:panda:Stopping active controller (Trajectory).\n",
      "INFO:panda:Initializing motion generation (moveToJointPosition).\n",
      "INFO:motion:Computed joint trajectory: 1 waypoint, duration 1.75 seconds.\n",
      "INFO:panda:Starting new controller (Trajectory).\n",
      "ERROR:panda:Control loop interruped: libfranka: Move command rejected: command not possible in the current mode (\"User stopped\")!\n"
     ]
    },
    {
     "name": "stdout",
     "output_type": "stream",
     "text": [
      "Saved ../../hand_in_eye8/rgb/9.png\n",
      "Saved ../../hand_in_eye8/depth/9.npy\n",
      "Saved pose to ../../hand_in_eye8/poses/pose_9.npy\n",
      "Saved joints to ../../hand_in_eye8/joints/joints_9.npy\n",
      "RGB Intrinsics: [ 640x480  p[330.552 241.445]  f[604.902 605.103]  Inverse Brown Conrady [0 0 0 0 0] ]\n",
      "RGB Distortion Coefficients: [0.0, 0.0, 0.0, 0.0, 0.0]\n",
      "Depth Scale: 0.0010000000474974513\n",
      "Depth Intrinsics: [ 640x480  p[322.025 240.057]  f[379.037 379.037]  Brown Conrady [0 0 0 0 0] ]\n",
      "Depth Distortion Coefficients: [0.0, 0.0, 0.0, 0.0, 0.0]\n"
     ]
    },
    {
     "name": "stderr",
     "output_type": "stream",
     "text": [
      "INFO:panda:Stopping active controller (Trajectory).\n",
      "INFO:panda:Initializing motion generation (moveToPose).\n",
      "INFO:motion:Computed Cartesian trajectory: 1 waypoint, duration 1.11 seconds.\n",
      "INFO:panda:Starting new controller (Trajectory).\n",
      "ERROR:panda:Control loop interruped: libfranka: Move command rejected: command not possible in the current mode (\"User stopped\")!\n",
      "INFO:panda:Stopping active controller (Trajectory).\n",
      "INFO:panda:Initializing motion generation (moveToPose).\n",
      "INFO:motion:Computed Cartesian trajectory: 1 waypoint, duration 1.07 seconds.\n",
      "INFO:panda:Starting new controller (Trajectory).\n",
      "ERROR:panda:Control loop interruped: libfranka: Move command rejected: command not possible in the current mode (\"User stopped\")!\n",
      "INFO:panda:Stopping active controller (Trajectory).\n",
      "INFO:panda:Initializing motion generation (moveToPose).\n",
      "INFO:motion:Computed Cartesian trajectory: 1 waypoint, duration 1.24 seconds.\n",
      "INFO:panda:Starting new controller (Trajectory).\n",
      "ERROR:panda:Control loop interruped: libfranka: Move command rejected: command not possible in the current mode (\"User stopped\")!\n",
      "INFO:panda:Stopping active controller (Trajectory).\n",
      "INFO:panda:Initializing motion generation (moveToPose).\n",
      "INFO:motion:Computed Cartesian trajectory: 1 waypoint, duration 1.09 seconds.\n",
      "INFO:panda:Starting new controller (Trajectory).\n",
      "ERROR:panda:Control loop interruped: libfranka: Move command rejected: command not possible in the current mode (\"User stopped\")!\n"
     ]
    },
    {
     "name": "stdout",
     "output_type": "stream",
     "text": [
      "Saved ../../hand_in_eye8/rgb/10.png\n",
      "Saved ../../hand_in_eye8/depth/10.npy\n",
      "Saved pose to ../../hand_in_eye8/poses/pose_10.npy\n",
      "Saved joints to ../../hand_in_eye8/joints/joints_10.npy\n",
      "Saved ../../hand_in_eye8/rgb/11.png\n",
      "Saved ../../hand_in_eye8/depth/11.npy\n",
      "Saved pose to ../../hand_in_eye8/poses/pose_11.npy\n",
      "Saved joints to ../../hand_in_eye8/joints/joints_11.npy\n",
      "Saved ../../hand_in_eye8/rgb/12.png\n",
      "Saved ../../hand_in_eye8/depth/12.npy\n",
      "Saved pose to ../../hand_in_eye8/poses/pose_12.npy\n",
      "Saved joints to ../../hand_in_eye8/joints/joints_12.npy\n"
     ]
    },
    {
     "name": "stderr",
     "output_type": "stream",
     "text": [
      "INFO:panda:Stopping active controller (Trajectory).\n",
      "INFO:panda:Initializing motion generation (moveToPose).\n",
      "INFO:motion:Computed Cartesian trajectory: 1 waypoint, duration 0.94 seconds.\n",
      "INFO:panda:Starting new controller (Trajectory).\n",
      "ERROR:panda:Control loop interruped: libfranka: Move command rejected: command not possible in the current mode (\"User stopped\")!\n",
      "INFO:panda:Stopping active controller (Trajectory).\n",
      "INFO:panda:Initializing motion generation (moveToPose).\n",
      "INFO:motion:Computed Cartesian trajectory: 1 waypoint, duration 1.04 seconds.\n",
      "INFO:panda:Starting new controller (Trajectory).\n",
      "ERROR:panda:Control loop interruped: libfranka: Move command rejected: command not possible in the current mode (\"User stopped\")!\n",
      "INFO:panda:Stopping active controller (Trajectory).\n",
      "INFO:panda:Initializing motion generation (moveToPose).\n",
      "INFO:motion:Computed Cartesian trajectory: 1 waypoint, duration 1.12 seconds.\n",
      "INFO:panda:Starting new controller (Trajectory).\n",
      "ERROR:panda:Control loop interruped: libfranka: Move command rejected: command not possible in the current mode (\"User stopped\")!\n"
     ]
    },
    {
     "name": "stdout",
     "output_type": "stream",
     "text": [
      "Saved ../../hand_in_eye8/rgb/13.png\n",
      "Saved ../../hand_in_eye8/depth/13.npy\n",
      "Saved pose to ../../hand_in_eye8/poses/pose_13.npy\n",
      "Saved joints to ../../hand_in_eye8/joints/joints_13.npy\n",
      "Saved ../../hand_in_eye8/rgb/14.png\n",
      "Saved ../../hand_in_eye8/depth/14.npy\n",
      "Saved pose to ../../hand_in_eye8/poses/pose_14.npy\n",
      "Saved joints to ../../hand_in_eye8/joints/joints_14.npy\n",
      "Saved ../../hand_in_eye8/rgb/15.png\n",
      "Saved ../../hand_in_eye8/depth/15.npy\n",
      "Saved pose to ../../hand_in_eye8/poses/pose_15.npy\n",
      "Saved joints to ../../hand_in_eye8/joints/joints_15.npy\n"
     ]
    },
    {
     "name": "stderr",
     "output_type": "stream",
     "text": [
      "INFO:panda:Stopping active controller (Trajectory).\n",
      "INFO:panda:Initializing motion generation (moveToPose).\n",
      "INFO:motion:Computed Cartesian trajectory: 1 waypoint, duration 1.10 seconds.\n",
      "INFO:panda:Starting new controller (Trajectory).\n",
      "ERROR:panda:Control loop interruped: libfranka: Move command rejected: command not possible in the current mode (\"User stopped\")!\n",
      "INFO:panda:Stopping active controller (Trajectory).\n",
      "INFO:panda:Initializing motion generation (moveToPose).\n",
      "INFO:motion:Computed Cartesian trajectory: 1 waypoint, duration 0.98 seconds.\n",
      "INFO:panda:Starting new controller (Trajectory).\n",
      "ERROR:panda:Control loop interruped: libfranka: Move command rejected: command not possible in the current mode (\"User stopped\")!\n",
      "INFO:panda:Stopping active controller (Trajectory).\n",
      "INFO:panda:Initializing motion generation (moveToPose).\n",
      "INFO:motion:Computed Cartesian trajectory: 1 waypoint, duration 1.04 seconds.\n",
      "INFO:panda:Starting new controller (Trajectory).\n",
      "ERROR:panda:Control loop interruped: libfranka: Move command rejected: command not possible in the current mode (\"User stopped\")!\n"
     ]
    },
    {
     "name": "stdout",
     "output_type": "stream",
     "text": [
      "Saved ../../hand_in_eye8/rgb/16.png\n",
      "Saved ../../hand_in_eye8/depth/16.npy\n",
      "Saved pose to ../../hand_in_eye8/poses/pose_16.npy\n",
      "Saved joints to ../../hand_in_eye8/joints/joints_16.npy\n",
      "Saved ../../hand_in_eye8/rgb/17.png\n",
      "Saved ../../hand_in_eye8/depth/17.npy\n",
      "Saved pose to ../../hand_in_eye8/poses/pose_17.npy\n",
      "Saved joints to ../../hand_in_eye8/joints/joints_17.npy\n",
      "Saved ../../hand_in_eye8/rgb/18.png\n",
      "Saved ../../hand_in_eye8/depth/18.npy\n",
      "Saved pose to ../../hand_in_eye8/poses/pose_18.npy\n",
      "Saved joints to ../../hand_in_eye8/joints/joints_18.npy\n"
     ]
    },
    {
     "name": "stderr",
     "output_type": "stream",
     "text": [
      "INFO:panda:Stopping active controller (Trajectory).\n",
      "INFO:panda:Initializing motion generation (moveToJointPosition).\n",
      "INFO:motion:Computed joint trajectory: 1 waypoint, duration 1.75 seconds.\n",
      "INFO:panda:Starting new controller (Trajectory).\n",
      "ERROR:panda:Control loop interruped: libfranka: Move command rejected: command not possible in the current mode (\"User stopped\")!\n"
     ]
    },
    {
     "name": "stdout",
     "output_type": "stream",
     "text": [
      "Saved ../../hand_in_eye8/rgb/19.png\n",
      "Saved ../../hand_in_eye8/depth/19.npy\n",
      "Saved pose to ../../hand_in_eye8/poses/pose_19.npy\n",
      "Saved joints to ../../hand_in_eye8/joints/joints_19.npy\n",
      "RGB Intrinsics: [ 640x480  p[330.552 241.445]  f[604.902 605.103]  Inverse Brown Conrady [0 0 0 0 0] ]\n",
      "RGB Distortion Coefficients: [0.0, 0.0, 0.0, 0.0, 0.0]\n",
      "Depth Scale: 0.0010000000474974513\n",
      "Depth Intrinsics: [ 640x480  p[322.025 240.057]  f[379.037 379.037]  Brown Conrady [0 0 0 0 0] ]\n",
      "Depth Distortion Coefficients: [0.0, 0.0, 0.0, 0.0, 0.0]\n"
     ]
    },
    {
     "name": "stderr",
     "output_type": "stream",
     "text": [
      "INFO:panda:Stopping active controller (Trajectory).\n",
      "INFO:panda:Initializing motion generation (moveToPose).\n",
      "INFO:motion:Computed Cartesian trajectory: 1 waypoint, duration 0.94 seconds.\n",
      "INFO:panda:Starting new controller (Trajectory).\n",
      "ERROR:panda:Control loop interruped: libfranka: Move command aborted: motion aborted by reflex! [\"joint_velocity_violation\"]\n",
      "control_command_success_rate: 1\n",
      "INFO:panda:Stopping active controller (Trajectory).\n",
      "WARNING:panda:Irregular state detected. Attempting automatic error recovery.\n",
      "INFO:panda:Initializing motion generation (moveToPose).\n",
      "INFO:motion:Computed Cartesian trajectory: 1 waypoint, duration 1.27 seconds.\n",
      "INFO:panda:Starting new controller (Trajectory).\n"
     ]
    },
    {
     "name": "stdout",
     "output_type": "stream",
     "text": [
      "Saved ../../hand_in_eye8/rgb/20.png\n",
      "Saved ../../hand_in_eye8/depth/20.npy\n",
      "Saved pose to ../../hand_in_eye8/poses/pose_20.npy\n",
      "Saved joints to ../../hand_in_eye8/joints/joints_20.npy\n"
     ]
    },
    {
     "name": "stderr",
     "output_type": "stream",
     "text": [
      "ERROR:panda:Control loop interruped: libfranka: Move command aborted: motion aborted by reflex! [\"joint_velocity_violation\"]\n",
      "control_command_success_rate: 1\n",
      "INFO:panda:Stopping active controller (Trajectory).\n",
      "WARNING:panda:Irregular state detected. Attempting automatic error recovery.\n",
      "INFO:panda:Initializing motion generation (moveToPose).\n",
      "INFO:motion:Computed Cartesian trajectory: 1 waypoint, duration 1.19 seconds.\n",
      "INFO:panda:Starting new controller (Trajectory).\n"
     ]
    },
    {
     "name": "stdout",
     "output_type": "stream",
     "text": [
      "Saved ../../hand_in_eye8/rgb/21.png\n",
      "Saved ../../hand_in_eye8/depth/21.npy\n",
      "Saved pose to ../../hand_in_eye8/poses/pose_21.npy\n",
      "Saved joints to ../../hand_in_eye8/joints/joints_21.npy\n"
     ]
    },
    {
     "name": "stderr",
     "output_type": "stream",
     "text": [
      "INFO:panda:Stopping active controller (Trajectory).\n",
      "INFO:panda:Initializing motion generation (moveToPose).\n",
      "INFO:motion:Computed Cartesian trajectory: 1 waypoint, duration 0.43 seconds.\n",
      "INFO:panda:Starting new controller (Trajectory).\n"
     ]
    },
    {
     "name": "stdout",
     "output_type": "stream",
     "text": [
      "Saved ../../hand_in_eye8/rgb/22.png\n",
      "Saved ../../hand_in_eye8/depth/22.npy\n",
      "Saved pose to ../../hand_in_eye8/poses/pose_22.npy\n",
      "Saved joints to ../../hand_in_eye8/joints/joints_22.npy\n"
     ]
    },
    {
     "name": "stderr",
     "output_type": "stream",
     "text": [
      "INFO:panda:Stopping active controller (Trajectory).\n",
      "INFO:panda:Initializing motion generation (moveToPose).\n",
      "INFO:motion:Computed Cartesian trajectory: 1 waypoint, duration 0.26 seconds.\n",
      "INFO:panda:Starting new controller (Trajectory).\n"
     ]
    },
    {
     "name": "stdout",
     "output_type": "stream",
     "text": [
      "Saved ../../hand_in_eye8/rgb/23.png\n",
      "Saved ../../hand_in_eye8/depth/23.npy\n",
      "Saved pose to ../../hand_in_eye8/poses/pose_23.npy\n",
      "Saved joints to ../../hand_in_eye8/joints/joints_23.npy\n"
     ]
    },
    {
     "name": "stderr",
     "output_type": "stream",
     "text": [
      "INFO:panda:Stopping active controller (Trajectory).\n",
      "INFO:panda:Initializing motion generation (moveToPose).\n",
      "INFO:motion:Computed Cartesian trajectory: 1 waypoint, duration 0.52 seconds.\n",
      "INFO:panda:Starting new controller (Trajectory).\n"
     ]
    },
    {
     "name": "stdout",
     "output_type": "stream",
     "text": [
      "Saved ../../hand_in_eye8/rgb/24.png\n",
      "Saved ../../hand_in_eye8/depth/24.npy\n",
      "Saved pose to ../../hand_in_eye8/poses/pose_24.npy\n",
      "Saved joints to ../../hand_in_eye8/joints/joints_24.npy\n"
     ]
    },
    {
     "name": "stderr",
     "output_type": "stream",
     "text": [
      "INFO:panda:Stopping active controller (Trajectory).\n",
      "INFO:panda:Initializing motion generation (moveToPose).\n",
      "INFO:motion:Computed Cartesian trajectory: 1 waypoint, duration 0.57 seconds.\n",
      "INFO:panda:Starting new controller (Trajectory).\n"
     ]
    },
    {
     "name": "stdout",
     "output_type": "stream",
     "text": [
      "Saved ../../hand_in_eye8/rgb/25.png\n",
      "Saved ../../hand_in_eye8/depth/25.npy\n",
      "Saved pose to ../../hand_in_eye8/poses/pose_25.npy\n",
      "Saved joints to ../../hand_in_eye8/joints/joints_25.npy\n"
     ]
    },
    {
     "name": "stderr",
     "output_type": "stream",
     "text": [
      "INFO:panda:Stopping active controller (Trajectory).\n",
      "INFO:panda:Initializing motion generation (moveToPose).\n",
      "INFO:motion:Computed Cartesian trajectory: 1 waypoint, duration 0.42 seconds.\n",
      "INFO:panda:Starting new controller (Trajectory).\n"
     ]
    },
    {
     "name": "stdout",
     "output_type": "stream",
     "text": [
      "Saved ../../hand_in_eye8/rgb/26.png\n",
      "Saved ../../hand_in_eye8/depth/26.npy\n",
      "Saved pose to ../../hand_in_eye8/poses/pose_26.npy\n",
      "Saved joints to ../../hand_in_eye8/joints/joints_26.npy\n"
     ]
    },
    {
     "name": "stderr",
     "output_type": "stream",
     "text": [
      "INFO:panda:Stopping active controller (Trajectory).\n",
      "INFO:panda:Initializing motion generation (moveToPose).\n",
      "INFO:motion:Computed Cartesian trajectory: 1 waypoint, duration 0.37 seconds.\n",
      "INFO:panda:Starting new controller (Trajectory).\n"
     ]
    },
    {
     "name": "stdout",
     "output_type": "stream",
     "text": [
      "Saved ../../hand_in_eye8/rgb/27.png\n",
      "Saved ../../hand_in_eye8/depth/27.npy\n",
      "Saved pose to ../../hand_in_eye8/poses/pose_27.npy\n",
      "Saved joints to ../../hand_in_eye8/joints/joints_27.npy\n"
     ]
    },
    {
     "name": "stderr",
     "output_type": "stream",
     "text": [
      "INFO:panda:Stopping active controller (Trajectory).\n",
      "INFO:panda:Initializing motion generation (moveToPose).\n",
      "INFO:motion:Computed Cartesian trajectory: 1 waypoint, duration 0.40 seconds.\n",
      "INFO:panda:Starting new controller (Trajectory).\n"
     ]
    },
    {
     "name": "stdout",
     "output_type": "stream",
     "text": [
      "Saved ../../hand_in_eye8/rgb/28.png\n",
      "Saved ../../hand_in_eye8/depth/28.npy\n",
      "Saved pose to ../../hand_in_eye8/poses/pose_28.npy\n",
      "Saved joints to ../../hand_in_eye8/joints/joints_28.npy\n"
     ]
    },
    {
     "name": "stderr",
     "output_type": "stream",
     "text": [
      "INFO:panda:Stopping active controller (Trajectory).\n",
      "INFO:panda:Initializing motion generation (moveToJointPosition).\n",
      "INFO:motion:Computed joint trajectory: 1 waypoint, duration 2.56 seconds.\n",
      "INFO:panda:Starting new controller (Trajectory).\n"
     ]
    },
    {
     "name": "stdout",
     "output_type": "stream",
     "text": [
      "Saved ../../hand_in_eye8/rgb/29.png\n",
      "Saved ../../hand_in_eye8/depth/29.npy\n",
      "Saved pose to ../../hand_in_eye8/poses/pose_29.npy\n",
      "Saved joints to ../../hand_in_eye8/joints/joints_29.npy\n",
      "RGB Intrinsics: [ 640x480  p[330.552 241.445]  f[604.902 605.103]  Inverse Brown Conrady [0 0 0 0 0] ]\n",
      "RGB Distortion Coefficients: [0.0, 0.0, 0.0, 0.0, 0.0]\n",
      "Depth Scale: 0.0010000000474974513\n",
      "Depth Intrinsics: [ 640x480  p[322.025 240.057]  f[379.037 379.037]  Brown Conrady [0 0 0 0 0] ]\n",
      "Depth Distortion Coefficients: [0.0, 0.0, 0.0, 0.0, 0.0]\n"
     ]
    },
    {
     "name": "stderr",
     "output_type": "stream",
     "text": [
      "INFO:panda:Stopping active controller (Trajectory).\n",
      "INFO:panda:Initializing motion generation (moveToPose).\n",
      "INFO:motion:Computed Cartesian trajectory: 1 waypoint, duration 1.03 seconds.\n",
      "INFO:panda:Starting new controller (Trajectory).\n",
      "INFO:panda:Stopping active controller (Trajectory).\n",
      "INFO:panda:Initializing motion generation (moveToPose).\n",
      "INFO:motion:Computed Cartesian trajectory: 1 waypoint, duration 0.28 seconds.\n",
      "INFO:panda:Starting new controller (Trajectory).\n"
     ]
    },
    {
     "name": "stdout",
     "output_type": "stream",
     "text": [
      "Saved ../../hand_in_eye8/rgb/30.png\n",
      "Saved ../../hand_in_eye8/depth/30.npy\n",
      "Saved pose to ../../hand_in_eye8/poses/pose_30.npy\n",
      "Saved joints to ../../hand_in_eye8/joints/joints_30.npy\n"
     ]
    },
    {
     "name": "stderr",
     "output_type": "stream",
     "text": [
      "INFO:panda:Stopping active controller (Trajectory).\n",
      "INFO:panda:Initializing motion generation (moveToPose).\n",
      "INFO:motion:Computed Cartesian trajectory: 1 waypoint, duration 0.29 seconds.\n",
      "INFO:panda:Starting new controller (Trajectory).\n"
     ]
    },
    {
     "name": "stdout",
     "output_type": "stream",
     "text": [
      "Saved ../../hand_in_eye8/rgb/31.png\n",
      "Saved ../../hand_in_eye8/depth/31.npy\n",
      "Saved pose to ../../hand_in_eye8/poses/pose_31.npy\n",
      "Saved joints to ../../hand_in_eye8/joints/joints_31.npy\n"
     ]
    },
    {
     "name": "stderr",
     "output_type": "stream",
     "text": [
      "INFO:panda:Stopping active controller (Trajectory).\n",
      "INFO:panda:Initializing motion generation (moveToPose).\n",
      "INFO:motion:Computed Cartesian trajectory: 1 waypoint, duration 0.57 seconds.\n",
      "INFO:panda:Starting new controller (Trajectory).\n"
     ]
    },
    {
     "name": "stdout",
     "output_type": "stream",
     "text": [
      "Saved ../../hand_in_eye8/rgb/32.png\n",
      "Saved ../../hand_in_eye8/depth/32.npy\n",
      "Saved pose to ../../hand_in_eye8/poses/pose_32.npy\n",
      "Saved joints to ../../hand_in_eye8/joints/joints_32.npy\n"
     ]
    },
    {
     "name": "stderr",
     "output_type": "stream",
     "text": [
      "INFO:panda:Stopping active controller (Trajectory).\n",
      "INFO:panda:Initializing motion generation (moveToPose).\n",
      "INFO:motion:Computed Cartesian trajectory: 1 waypoint, duration 0.44 seconds.\n",
      "INFO:panda:Starting new controller (Trajectory).\n"
     ]
    },
    {
     "name": "stdout",
     "output_type": "stream",
     "text": [
      "Saved ../../hand_in_eye8/rgb/33.png\n",
      "Saved ../../hand_in_eye8/depth/33.npy\n",
      "Saved pose to ../../hand_in_eye8/poses/pose_33.npy\n",
      "Saved joints to ../../hand_in_eye8/joints/joints_33.npy\n"
     ]
    },
    {
     "name": "stderr",
     "output_type": "stream",
     "text": [
      "INFO:panda:Stopping active controller (Trajectory).\n",
      "INFO:panda:Initializing motion generation (moveToPose).\n",
      "INFO:motion:Computed Cartesian trajectory: 1 waypoint, duration 0.41 seconds.\n",
      "INFO:panda:Starting new controller (Trajectory).\n"
     ]
    },
    {
     "name": "stdout",
     "output_type": "stream",
     "text": [
      "Saved ../../hand_in_eye8/rgb/34.png\n",
      "Saved ../../hand_in_eye8/depth/34.npy\n",
      "Saved pose to ../../hand_in_eye8/poses/pose_34.npy\n",
      "Saved joints to ../../hand_in_eye8/joints/joints_34.npy\n"
     ]
    },
    {
     "name": "stderr",
     "output_type": "stream",
     "text": [
      "INFO:panda:Stopping active controller (Trajectory).\n",
      "INFO:panda:Initializing motion generation (moveToPose).\n",
      "INFO:motion:Computed Cartesian trajectory: 1 waypoint, duration 0.39 seconds.\n",
      "INFO:panda:Starting new controller (Trajectory).\n"
     ]
    },
    {
     "name": "stdout",
     "output_type": "stream",
     "text": [
      "Saved ../../hand_in_eye8/rgb/35.png\n",
      "Saved ../../hand_in_eye8/depth/35.npy\n",
      "Saved pose to ../../hand_in_eye8/poses/pose_35.npy\n",
      "Saved joints to ../../hand_in_eye8/joints/joints_35.npy\n"
     ]
    },
    {
     "name": "stderr",
     "output_type": "stream",
     "text": [
      "INFO:panda:Stopping active controller (Trajectory).\n",
      "INFO:panda:Initializing motion generation (moveToPose).\n",
      "INFO:motion:Computed Cartesian trajectory: 1 waypoint, duration 0.40 seconds.\n",
      "INFO:panda:Starting new controller (Trajectory).\n"
     ]
    },
    {
     "name": "stdout",
     "output_type": "stream",
     "text": [
      "Saved ../../hand_in_eye8/rgb/36.png\n",
      "Saved ../../hand_in_eye8/depth/36.npy\n",
      "Saved pose to ../../hand_in_eye8/poses/pose_36.npy\n",
      "Saved joints to ../../hand_in_eye8/joints/joints_36.npy\n"
     ]
    },
    {
     "name": "stderr",
     "output_type": "stream",
     "text": [
      "INFO:panda:Stopping active controller (Trajectory).\n",
      "INFO:panda:Initializing motion generation (moveToPose).\n",
      "INFO:motion:Computed Cartesian trajectory: 1 waypoint, duration 0.39 seconds.\n",
      "INFO:panda:Starting new controller (Trajectory).\n"
     ]
    },
    {
     "name": "stdout",
     "output_type": "stream",
     "text": [
      "Saved ../../hand_in_eye8/rgb/37.png\n",
      "Saved ../../hand_in_eye8/depth/37.npy\n",
      "Saved pose to ../../hand_in_eye8/poses/pose_37.npy\n",
      "Saved joints to ../../hand_in_eye8/joints/joints_37.npy\n"
     ]
    },
    {
     "name": "stderr",
     "output_type": "stream",
     "text": [
      "INFO:panda:Stopping active controller (Trajectory).\n",
      "INFO:panda:Initializing motion generation (moveToPose).\n",
      "INFO:motion:Computed Cartesian trajectory: 1 waypoint, duration 0.47 seconds.\n",
      "INFO:panda:Starting new controller (Trajectory).\n"
     ]
    },
    {
     "name": "stdout",
     "output_type": "stream",
     "text": [
      "Saved ../../hand_in_eye8/rgb/38.png\n",
      "Saved ../../hand_in_eye8/depth/38.npy\n",
      "Saved pose to ../../hand_in_eye8/poses/pose_38.npy\n",
      "Saved joints to ../../hand_in_eye8/joints/joints_38.npy\n"
     ]
    },
    {
     "name": "stderr",
     "output_type": "stream",
     "text": [
      "INFO:panda:Stopping active controller (Trajectory).\n",
      "INFO:panda:Initializing motion generation (moveToJointPosition).\n",
      "INFO:motion:Computed joint trajectory: 1 waypoint, duration 2.67 seconds.\n",
      "INFO:panda:Starting new controller (Trajectory).\n"
     ]
    },
    {
     "name": "stdout",
     "output_type": "stream",
     "text": [
      "Saved ../../hand_in_eye8/rgb/39.png\n",
      "Saved ../../hand_in_eye8/depth/39.npy\n",
      "Saved pose to ../../hand_in_eye8/poses/pose_39.npy\n",
      "Saved joints to ../../hand_in_eye8/joints/joints_39.npy\n"
     ]
    }
   ],
   "source": [
    "os.makedirs(f'{base_dir}/rgb', exist_ok=True)\n",
    "os.makedirs(f'{base_dir}/depth', exist_ok=True)\n",
    "os.makedirs(f'{base_dir}/poses', exist_ok=True)\n",
    "os.makedirs(f'{base_dir}/joints', exist_ok=True)\n",
    "# Define a list of configurations\n",
    "image_configs = [\n",
    "    {\n",
    "        'base_dir': '../hand_in_eye2',\n",
    "        'init_pose': panda_py.fk(constants.JOINT_POSITION_START),\n",
    "        'roll': 0.0,\n",
    "        'pitch': 0.2,\n",
    "        'yaw': 0.0,\n",
    "        'z_add': 0.16,\n",
    "        'x_add': 0.12,\n",
    "        'y_add': 0.0,\n",
    "        'max_roll_deviation': 0.1,\n",
    "        'max_pitch_deviation': 0.1,\n",
    "        'max_yaw_deviation': 0.1\n",
    "    },\n",
    "    {\n",
    "        'base_dir': '../hand_in_eye2',\n",
    "        'init_pose': panda_py.fk(constants.JOINT_POSITION_START),\n",
    "        'roll': 0.3,\n",
    "        'pitch': 0.35,\n",
    "        'yaw': 0.0,\n",
    "        'z_add': 0.1,\n",
    "        'x_add': 0.0,\n",
    "        'y_add': -0.25,\n",
    "        'max_roll_deviation': 0.1,\n",
    "        'max_pitch_deviation': 0.1,\n",
    "        'max_yaw_deviation': 0.1\n",
    "    },\n",
    "    {\n",
    "        'base_dir': '../hand_in_eye2',\n",
    "        'init_pose': panda_py.fk(constants.JOINT_POSITION_START),\n",
    "        'roll': -0.25,\n",
    "        'pitch': 0.35,\n",
    "        'yaw': 0.2,\n",
    "        'z_add': 0.12,\n",
    "        'x_add': 0.1,\n",
    "        'y_add': 0.20,\n",
    "        'max_roll_deviation': 0.1,\n",
    "        'max_pitch_deviation': 0.1,\n",
    "        'max_yaw_deviation': 0.1\n",
    "    },\n",
    "    {\n",
    "        'base_dir': '../hand_in_eye2',\n",
    "        'init_pose': panda_py.fk(constants.JOINT_POSITION_START),\n",
    "        'roll': -0.25,\n",
    "        'pitch': 0.2,\n",
    "        'yaw': 0.2,\n",
    "        'z_add': 0.20,\n",
    "        'x_add': 0.11,\n",
    "        'y_add': 0.1,\n",
    "        'max_roll_deviation': 0.1,\n",
    "        'max_pitch_deviation': 0.1,\n",
    "        'max_yaw_deviation': 0.1\n",
    "    }\n",
    "]\n",
    "\n",
    "\n",
    "# Enumerate connected RealSense cameras\n",
    "device_serials = get_devices()\n",
    "\n",
    "# Print selected device serial numbers\n",
    "print(\"Selected device serial numbers:\", device_serials[0])\n",
    "\n",
    "rgb_resolution = (640, 480)  # RGB resolution (width, height)\n",
    "depth_resolution = (640, 480)  # Depth resolution (width, height)\n",
    "\n",
    "camera = Camera(device_serials[0], rgb_resolution, depth_resolution)\n",
    "\n",
    "# Delay before shooting (in seconds)\n",
    "delay_before_shooting = 3.0\n",
    "\n",
    "# Iterate over the list of configurations and capture images\n",
    "for i, config in enumerate(image_configs):\n",
    "    capture_images(camera, delay_before_shooting, 10*i, 10, base_dir, config['init_pose'], config['roll'], config['pitch'], config['yaw'],\n",
    "                   config['z_add'], config['x_add'], config['y_add'], config['max_roll_deviation'],\n",
    "                   config['max_pitch_deviation'], config['max_yaw_deviation'])"
   ]
  }
 ],
 "metadata": {
  "kernelspec": {
   "display_name": "pypanda",
   "language": "python",
   "name": "python3"
  },
  "language_info": {
   "codemirror_mode": {
    "name": "ipython",
    "version": 3
   },
   "file_extension": ".py",
   "mimetype": "text/x-python",
   "name": "python",
   "nbconvert_exporter": "python",
   "pygments_lexer": "ipython3",
   "version": "3.10.13"
  }
 },
 "nbformat": 4,
 "nbformat_minor": 2
}
